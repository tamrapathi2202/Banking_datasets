{
 "cells": [
  {
   "cell_type": "markdown",
   "id": "ac4c3853",
   "metadata": {},
   "source": [
    "### Problem Statement"
   ]
  },
  {
   "cell_type": "markdown",
   "id": "5d2cafcd",
   "metadata": {},
   "source": [
    "Zenith Bank, a long-established financial institution headquartered in Bengaluru, is planning to launch a new line of credit cards to diversify its offerings and expand its presence in the financial services market.\n",
    "\n",
    "When DataWiz Analytics, a consulting firm, learned about this opportunity through internal channels, they approached Zenith Bank with a proposal to handle the project. However, the Strategy Director, Mr. Arvind Kapoor, expressed caution and requested a pilot study before committing fully. For this purpose, the bank shared a sample dataset of 4,000 customers across five cities, containing details about their online spending behavior and demographics.\n",
    "\n",
    "At DataWiz Analytics, Ishaan Gupta, a data analyst, was assigned the responsibility of conducting this study. His task was to uncover meaningful insights from the data and present key recommendations to the strategy team of Zenith Bank. The expectation was that his analysis would help the bank in designing credit card offerings aligned with customer needs and market trends.\n",
    "\n",
    "The outcome of this pilot project would significantly influence Zenith Bank’s decision on awarding the full project. To ensure success, Ishaan worked closely with his manager, Neha Reddy, who provided him with guidance and suggested potential areas of analysis to generate impactful insights."
   ]
  },
  {
   "cell_type": "code",
   "execution_count": null,
   "id": "bdc71441",
   "metadata": {},
   "outputs": [],
   "source": []
  },
  {
   "cell_type": "code",
   "execution_count": null,
   "id": "e2259ce7",
   "metadata": {},
   "outputs": [],
   "source": []
  }
 ],
 "metadata": {
  "kernelspec": {
   "display_name": "Python 3",
   "language": "python",
   "name": "python3"
  },
  "language_info": {
   "codemirror_mode": {
    "name": "ipython",
    "version": 3
   },
   "file_extension": ".py",
   "mimetype": "text/x-python",
   "name": "python",
   "nbconvert_exporter": "python",
   "pygments_lexer": "ipython3",
   "version": "3.13.2"
  }
 },
 "nbformat": 4,
 "nbformat_minor": 5
}
